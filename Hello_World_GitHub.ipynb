{
  "nbformat": 4,
  "nbformat_minor": 0,
  "metadata": {
    "colab": {
      "name": "Hello World GitHub.ipynb",
      "provenance": [],
      "authorship_tag": "ABX9TyOquArXYUA4DhytM9663XE3",
      "include_colab_link": true
    },
    "kernelspec": {
      "name": "python3",
      "display_name": "Python 3"
    },
    "language_info": {
      "name": "python"
    }
  },
  "cells": [
    {
      "cell_type": "markdown",
      "metadata": {
        "id": "view-in-github",
        "colab_type": "text"
      },
      "source": [
        "<a href=\"https://colab.research.google.com/github/techpolicycomms/hello-world-rahul/blob/main/Hello_World_GitHub.ipynb\" target=\"_parent\"><img src=\"https://colab.research.google.com/assets/colab-badge.svg\" alt=\"Open In Colab\"/></a>"
      ]
    },
    {
      "cell_type": "code",
      "execution_count": 1,
      "metadata": {
        "id": "-tS_60qp4UN7",
        "colab": {
          "base_uri": "https://localhost:8080/"
        },
        "outputId": "e398a2d0-f8a1-47bb-956d-c6664da26801"
      },
      "outputs": [
        {
          "output_type": "stream",
          "name": "stdout",
          "text": [
            "Hello World\n"
          ]
        }
      ],
      "source": [
        "#initialize GitHub repository\n",
        "print(\"Hello World\")\n",
        "\n"
      ]
    },
    {
      "cell_type": "code",
      "source": [
        "#import libraries\n"
      ],
      "metadata": {
        "id": "O26DvI2N-fnf"
      },
      "execution_count": null,
      "outputs": []
    }
  ]
}